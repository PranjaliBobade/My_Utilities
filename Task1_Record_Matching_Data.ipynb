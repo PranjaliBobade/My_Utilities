{
 "cells": [
  {
   "cell_type": "code",
   "execution_count": 89,
   "id": "26cb84ce",
   "metadata": {},
   "outputs": [],
   "source": [
    "import pandas as pd\n",
    "import numpy as np"
   ]
  },
  {
   "cell_type": "markdown",
   "id": "1e44a2cd",
   "metadata": {},
   "source": [
    "# Question 1:"
   ]
  },
  {
   "cell_type": "markdown",
   "id": "c67e6729",
   "metadata": {},
   "source": [
    "Data1 File Operations:"
   ]
  },
  {
   "cell_type": "code",
   "execution_count": 90,
   "id": "6aa44ee3",
   "metadata": {},
   "outputs": [],
   "source": [
    "# Reading file -data1\n",
    "df_data1 = pd.read_excel(\"D:/Pranjali/POC/Chaitali/Data1.xlsx\")"
   ]
  },
  {
   "cell_type": "code",
   "execution_count": 91,
   "id": "4153239d",
   "metadata": {},
   "outputs": [
    {
     "name": "stdout",
     "output_type": "stream",
     "text": [
      "<class 'pandas.core.frame.DataFrame'>\n",
      "RangeIndex: 9478 entries, 0 to 9477\n",
      "Data columns (total 3 columns):\n",
      " #   Column      Non-Null Count  Dtype \n",
      "---  ------      --------------  ----- \n",
      " 0   Order ID    9478 non-null   object\n",
      " 1   Product ID  9478 non-null   object\n",
      " 2   Qty         9478 non-null   int64 \n",
      "dtypes: int64(1), object(2)\n",
      "memory usage: 222.3+ KB\n"
     ]
    }
   ],
   "source": [
    "df_data1.info()"
   ]
  },
  {
   "cell_type": "code",
   "execution_count": 92,
   "id": "fc51a2f2",
   "metadata": {},
   "outputs": [
    {
     "data": {
      "text/html": [
       "<div>\n",
       "<style scoped>\n",
       "    .dataframe tbody tr th:only-of-type {\n",
       "        vertical-align: middle;\n",
       "    }\n",
       "\n",
       "    .dataframe tbody tr th {\n",
       "        vertical-align: top;\n",
       "    }\n",
       "\n",
       "    .dataframe thead th {\n",
       "        text-align: right;\n",
       "    }\n",
       "</style>\n",
       "<table border=\"1\" class=\"dataframe\">\n",
       "  <thead>\n",
       "    <tr style=\"text-align: right;\">\n",
       "      <th></th>\n",
       "      <th>Order ID</th>\n",
       "      <th>Product ID</th>\n",
       "      <th>Qty</th>\n",
       "      <th>OrderID_ProductID_1</th>\n",
       "    </tr>\n",
       "  </thead>\n",
       "  <tbody>\n",
       "    <tr>\n",
       "      <th>0</th>\n",
       "      <td>CA-2014-100006</td>\n",
       "      <td>TEC-PH-10002075</td>\n",
       "      <td>3</td>\n",
       "      <td>CA-2014-100006TEC-PH-10002075</td>\n",
       "    </tr>\n",
       "    <tr>\n",
       "      <th>1</th>\n",
       "      <td>CA-2014-100090</td>\n",
       "      <td>FUR-TA-10003715</td>\n",
       "      <td>3</td>\n",
       "      <td>CA-2014-100090FUR-TA-10003715</td>\n",
       "    </tr>\n",
       "    <tr>\n",
       "      <th>2</th>\n",
       "      <td>CA-2014-100090</td>\n",
       "      <td>OFF-BI-10001597</td>\n",
       "      <td>6</td>\n",
       "      <td>CA-2014-100090OFF-BI-10001597</td>\n",
       "    </tr>\n",
       "    <tr>\n",
       "      <th>3</th>\n",
       "      <td>CA-2014-100293</td>\n",
       "      <td>OFF-PA-10000176</td>\n",
       "      <td>6</td>\n",
       "      <td>CA-2014-100293OFF-PA-10000176</td>\n",
       "    </tr>\n",
       "    <tr>\n",
       "      <th>4</th>\n",
       "      <td>CA-2014-100328</td>\n",
       "      <td>OFF-BI-10000343</td>\n",
       "      <td>1</td>\n",
       "      <td>CA-2014-100328OFF-BI-10000343</td>\n",
       "    </tr>\n",
       "  </tbody>\n",
       "</table>\n",
       "</div>"
      ],
      "text/plain": [
       "         Order ID       Product ID  Qty            OrderID_ProductID_1\n",
       "0  CA-2014-100006  TEC-PH-10002075    3  CA-2014-100006TEC-PH-10002075\n",
       "1  CA-2014-100090  FUR-TA-10003715    3  CA-2014-100090FUR-TA-10003715\n",
       "2  CA-2014-100090  OFF-BI-10001597    6  CA-2014-100090OFF-BI-10001597\n",
       "3  CA-2014-100293  OFF-PA-10000176    6  CA-2014-100293OFF-PA-10000176\n",
       "4  CA-2014-100328  OFF-BI-10000343    1  CA-2014-100328OFF-BI-10000343"
      ]
     },
     "execution_count": 92,
     "metadata": {},
     "output_type": "execute_result"
    }
   ],
   "source": [
    "# Concatinating columns -col1, col2 for both datasets\n",
    "df_data1['OrderID_ProductID_1'] = df_data1['Order ID']+df_data1['Product ID']\n",
    "df_data1.head()"
   ]
  },
  {
   "cell_type": "markdown",
   "id": "5b4642c0",
   "metadata": {},
   "source": [
    "Data2 File Operation :"
   ]
  },
  {
   "cell_type": "code",
   "execution_count": 93,
   "id": "262c9f46",
   "metadata": {},
   "outputs": [
    {
     "name": "stdout",
     "output_type": "stream",
     "text": [
      "<class 'pandas.core.frame.DataFrame'>\n",
      "RangeIndex: 9478 entries, 0 to 9477\n",
      "Data columns (total 4 columns):\n",
      " #   Column               Non-Null Count  Dtype \n",
      "---  ------               --------------  ----- \n",
      " 0   Order ID             9478 non-null   object\n",
      " 1   Product ID           9478 non-null   object\n",
      " 2   Qty                  9478 non-null   int64 \n",
      " 3   OrderID_ProductID_1  9478 non-null   object\n",
      "dtypes: int64(1), object(3)\n",
      "memory usage: 296.3+ KB\n"
     ]
    }
   ],
   "source": [
    "df_data1.info()"
   ]
  },
  {
   "cell_type": "code",
   "execution_count": 96,
   "id": "0d7116f4",
   "metadata": {},
   "outputs": [],
   "source": [
    "# Reading file -data1\n",
    "df_data2 = pd.read_excel(\"D:/Pranjali/POC/Chaitali/Data2.xlsx\")"
   ]
  },
  {
   "cell_type": "code",
   "execution_count": 97,
   "id": "f1d0c6c4",
   "metadata": {},
   "outputs": [
    {
     "data": {
      "text/html": [
       "<div>\n",
       "<style scoped>\n",
       "    .dataframe tbody tr th:only-of-type {\n",
       "        vertical-align: middle;\n",
       "    }\n",
       "\n",
       "    .dataframe tbody tr th {\n",
       "        vertical-align: top;\n",
       "    }\n",
       "\n",
       "    .dataframe thead th {\n",
       "        text-align: right;\n",
       "    }\n",
       "</style>\n",
       "<table border=\"1\" class=\"dataframe\">\n",
       "  <thead>\n",
       "    <tr style=\"text-align: right;\">\n",
       "      <th></th>\n",
       "      <th>Order ID</th>\n",
       "      <th>Product ID</th>\n",
       "      <th>Qty</th>\n",
       "      <th>OrderID_ProductID_2</th>\n",
       "    </tr>\n",
       "  </thead>\n",
       "  <tbody>\n",
       "    <tr>\n",
       "      <th>0</th>\n",
       "      <td>CA-2014-100090</td>\n",
       "      <td>FUR-TA-10003715</td>\n",
       "      <td>3</td>\n",
       "      <td>CA-2014-100090FUR-TA-10003715</td>\n",
       "    </tr>\n",
       "    <tr>\n",
       "      <th>1</th>\n",
       "      <td>CA-2014-100090</td>\n",
       "      <td>OFF-BI-10001597</td>\n",
       "      <td>6</td>\n",
       "      <td>CA-2014-100090OFF-BI-10001597</td>\n",
       "    </tr>\n",
       "  </tbody>\n",
       "</table>\n",
       "</div>"
      ],
      "text/plain": [
       "         Order ID       Product ID  Qty            OrderID_ProductID_2\n",
       "0  CA-2014-100090  FUR-TA-10003715    3  CA-2014-100090FUR-TA-10003715\n",
       "1  CA-2014-100090  OFF-BI-10001597    6  CA-2014-100090OFF-BI-10001597"
      ]
     },
     "execution_count": 97,
     "metadata": {},
     "output_type": "execute_result"
    }
   ],
   "source": [
    "df_data2['OrderID_ProductID_2'] = df_data2['Order ID']+df_data2['Product ID']\n",
    "df_data2.head(2)"
   ]
  },
  {
   "cell_type": "code",
   "execution_count": 101,
   "id": "a2b0f95f",
   "metadata": {},
   "outputs": [],
   "source": [
    "df_data1['Match'] = df_data1['OrderID_ProductID_1'].isin(df_data2['OrderID_ProductID_2'])"
   ]
  },
  {
   "cell_type": "code",
   "execution_count": 102,
   "id": "ed7af39a",
   "metadata": {},
   "outputs": [],
   "source": [
    "df_data1_match = df_data1[['Order ID','Product ID','Qty','OrderID_ProductID_1','Match']]"
   ]
  },
  {
   "cell_type": "code",
   "execution_count": 103,
   "id": "80808354",
   "metadata": {},
   "outputs": [
    {
     "name": "stdout",
     "output_type": "stream",
     "text": [
      "            Order ID       Product ID  Qty            OrderID_ProductID_1  \\\n",
      "0     CA-2014-100006  TEC-PH-10002075    3  CA-2014-100006TEC-PH-10002075   \n",
      "1     CA-2014-100090  FUR-TA-10003715    3  CA-2014-100090FUR-TA-10003715   \n",
      "2     CA-2014-100090  OFF-BI-10001597    6  CA-2014-100090OFF-BI-10001597   \n",
      "3     CA-2014-100293  OFF-PA-10000176    6  CA-2014-100293OFF-PA-10000176   \n",
      "4     CA-2014-100328  OFF-BI-10000343    1  CA-2014-100328OFF-BI-10000343   \n",
      "...              ...              ...  ...                            ...   \n",
      "9473  US-2017-169551  OFF-PA-10004100    3  US-2017-169551OFF-PA-10004100   \n",
      "9474  US-2017-169551  OFF-ST-10004835    3  US-2017-169551OFF-ST-10004835   \n",
      "9475  US-2017-169551  TEC-AC-10002018    3  US-2017-169551TEC-AC-10002018   \n",
      "9476  US-2017-169551  TEC-AC-10003033    2  US-2017-169551TEC-AC-10003033   \n",
      "9477  US-2017-169551  TEC-PH-10001363    2  US-2017-169551TEC-PH-10001363   \n",
      "\n",
      "      Match  \n",
      "0     False  \n",
      "1      True  \n",
      "2      True  \n",
      "3      True  \n",
      "4      True  \n",
      "...     ...  \n",
      "9473   True  \n",
      "9474   True  \n",
      "9475   True  \n",
      "9476   True  \n",
      "9477   True  \n",
      "\n",
      "[9478 rows x 5 columns]\n"
     ]
    }
   ],
   "source": [
    "df_data1_match['Match'] = df_data1_match['Match'].astype(str) \n",
    "print(df_data1_match)  "
   ]
  },
  {
   "cell_type": "code",
   "execution_count": 104,
   "id": "a9890e82",
   "metadata": {},
   "outputs": [
    {
     "data": {
      "text/plain": [
       "True     8971\n",
       "False     507\n",
       "Name: Match, dtype: int64"
      ]
     },
     "execution_count": 104,
     "metadata": {},
     "output_type": "execute_result"
    }
   ],
   "source": [
    "df_data1_match['Match'].value_counts()"
   ]
  },
  {
   "cell_type": "code",
   "execution_count": 105,
   "id": "9a533d40",
   "metadata": {},
   "outputs": [
    {
     "name": "stdout",
     "output_type": "stream",
     "text": [
      "<class 'pandas.core.frame.DataFrame'>\n",
      "RangeIndex: 9478 entries, 0 to 9477\n",
      "Data columns (total 5 columns):\n",
      " #   Column               Non-Null Count  Dtype \n",
      "---  ------               --------------  ----- \n",
      " 0   Order ID             9478 non-null   object\n",
      " 1   Product ID           9478 non-null   object\n",
      " 2   Qty                  9478 non-null   int64 \n",
      " 3   OrderID_ProductID_1  9478 non-null   object\n",
      " 4   Match                9478 non-null   object\n",
      "dtypes: int64(1), object(4)\n",
      "memory usage: 370.4+ KB\n"
     ]
    }
   ],
   "source": [
    "df_data1_match.info()"
   ]
  },
  {
   "cell_type": "code",
   "execution_count": 106,
   "id": "3296bee4",
   "metadata": {},
   "outputs": [],
   "source": [
    "df_data1_match = df_data1.to_csv(\"D:/Pranjali/POC/Chaitali/output_data1.csv\", header=True)"
   ]
  },
  {
   "cell_type": "markdown",
   "id": "349cfe06",
   "metadata": {},
   "source": [
    "Task1_Question1: How to identify the Records (Order ID + Product ID combination) present in data1 but missing in data2 (Specify the number of records missing in your answer)\n",
    "Ans - 507 records are not matching from data1[OrderID_ProductID_1] with data2[OrderID_ProductID_2]     "
   ]
  }
 ],
 "metadata": {
  "kernelspec": {
   "display_name": "Python 3",
   "language": "python",
   "name": "python3"
  },
  "language_info": {
   "codemirror_mode": {
    "name": "ipython",
    "version": 3
   },
   "file_extension": ".py",
   "mimetype": "text/x-python",
   "name": "python",
   "nbconvert_exporter": "python",
   "pygments_lexer": "ipython3",
   "version": "3.8.8"
  }
 },
 "nbformat": 4,
 "nbformat_minor": 5
}
